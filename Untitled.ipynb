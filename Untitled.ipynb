{
 "cells": [
  {
   "cell_type": "code",
   "execution_count": 1,
   "metadata": {
    "collapsed": true
   },
   "outputs": [],
   "source": [
    "import numpy as np\n",
    "import pybrain as pb\n",
    "import pandas as pd\n",
    "\n",
    "import os\n",
    "import json\n",
    "\n",
    "from pybrain.supervised.trainers import BackpropTrainer\n",
    "from IPython.display import display, Math, Latex"
   ]
  },
  {
   "cell_type": "code",
   "execution_count": 2,
   "metadata": {
    "collapsed": true
   },
   "outputs": [],
   "source": [
    "RANDOM_STATE = 0"
   ]
  },
  {
   "cell_type": "code",
   "execution_count": 3,
   "metadata": {
    "collapsed": true
   },
   "outputs": [],
   "source": [
    "from pybrain.structure import FeedForwardNetwork, FullConnection\n",
    "from pybrain.structure import LinearLayer, SigmoidLayer, TanhLayer, SoftmaxLayer\n",
    "\n",
    "layer_dic = {\n",
    "    \"linear\": LinearLayer,\n",
    "    \"tanh\": TanhLayer,\n",
    "    \"sigm\": SigmoidLayer,\n",
    "    \"softmax\": SoftmaxLayer\n",
    "}\n",
    "\n",
    "def get_net(hidden_n, input_n=1, output_n=1, \n",
    "            input_layer_type='linear', hidden_layer_type='tanh', output_layer_type='linear'):\n",
    "    \n",
    "    net = FeedForwardNetwork()\n",
    "    \n",
    "    in_layer = layer_dic[input_layer_type](input_n, 'input')\n",
    "    hidden_layer = layer_dic[hidden_layer_type](input_n, 'hidden')\n",
    "    out_layer = layer_dic[output_layer_type](input_n, 'output')\n",
    "    \n",
    "    \n",
    "    net.addInputModule(in_layer)\n",
    "    net.addModule(hidden_layer)\n",
    "    net.addOutputModule(out_layer)\n",
    "    \n",
    "    in_to_hidden = FullConnection(in_layer, hidden_layer)\n",
    "    hidden_to_out = FullConnection(hidden_layer, out_layer)\n",
    "    \n",
    "    net.addConnection(in_to_hidden)\n",
    "    net.addConnection(hidden_to_out)\n",
    "    net.sortModules()\n",
    "    \n",
    "    return net"
   ]
  },
  {
   "cell_type": "code",
   "execution_count": null,
   "metadata": {
    "collapsed": true
   },
   "outputs": [],
   "source": []
  }
 ],
 "metadata": {
  "kernelspec": {
   "display_name": "Python 2",
   "language": "python",
   "name": "python2"
  },
  "language_info": {
   "codemirror_mode": {
    "name": "ipython",
    "version": 2
   },
   "file_extension": ".py",
   "mimetype": "text/x-python",
   "name": "python",
   "nbconvert_exporter": "python",
   "pygments_lexer": "ipython2",
   "version": "2.7.10"
  }
 },
 "nbformat": 4,
 "nbformat_minor": 0
}
