{
 "cells": [
  {
   "cell_type": "code",
   "execution_count": 1,
   "metadata": {
    "collapsed": false
   },
   "outputs": [],
   "source": [
    "import numpy as np\n",
    "import pandas as pd\n",
    "import pylab as pl"
   ]
  },
  {
   "cell_type": "code",
   "execution_count": 2,
   "metadata": {
    "collapsed": false
   },
   "outputs": [],
   "source": [
    "data = pd.read_csv('adult.data.csv')"
   ]
  },
  {
   "cell_type": "code",
   "execution_count": 3,
   "metadata": {
    "collapsed": false
   },
   "outputs": [
    {
     "name": "stdout",
     "output_type": "stream",
     "text": [
      "Male      21782\n",
      "Female    10766\n",
      "dtype: int64\n"
     ]
    }
   ],
   "source": [
    "# Task #1\n",
    "# Here we will calculate distribution by sex\n",
    "# Males: 21782\n",
    "# Females: 10766\n",
    "print data['sex'].value_counts()"
   ]
  },
  {
   "cell_type": "code",
   "execution_count": 4,
   "metadata": {
    "collapsed": false
   },
   "outputs": [
    {
     "name": "stdout",
     "output_type": "stream",
     "text": [
      "39.4323753558\n"
     ]
    }
   ],
   "source": [
    "# Task #2\n",
    "# Here we will calculate mean age of males\n",
    "print data[data['sex'] == 'Male']['age'].mean()"
   ]
  },
  {
   "cell_type": "code",
   "execution_count": 5,
   "metadata": {
    "collapsed": false
   },
   "outputs": [
    {
     "name": "stdout",
     "output_type": "stream",
     "text": [
      "There are 89.59% of US citizens\n"
     ]
    }
   ],
   "source": [
    "# Task #3\n",
    "# Here we'll calculate proportion of US citizens\n",
    "us_citizens_count = len(data[data['native-country'] == 'United-States']) * 1.0\n",
    "total_citizens_count = len(data)\n",
    "us_citizens_proportion = us_citizens_count / total_citizens_count\n",
    "print 'There are {:.2%} of US citizens'.format(us_citizens_proportion)"
   ]
  },
  {
   "cell_type": "code",
   "execution_count": 6,
   "metadata": {
    "collapsed": false
   },
   "outputs": [],
   "source": [
    "import matplotlib.pyplot as plt\n",
    "%matplotlib inline"
   ]
  },
  {
   "cell_type": "code",
   "execution_count": 7,
   "metadata": {
    "collapsed": false
   },
   "outputs": [
    {
     "data": {
      "text/plain": [
       "<matplotlib.axes._subplots.AxesSubplot at 0x7fbdac492a90>"
      ]
     },
     "execution_count": 7,
     "metadata": {},
     "output_type": "execute_result"
    },
    {
     "data": {
      "image/png": "[encoded data removed]",
      "text/plain": [
       "<matplotlib.figure.Figure at 0x7fbdac468d90>"
      ]
     },
     "metadata": {},
     "output_type": "display_data"
    }
   ],
   "source": [
    "# Task 4\n",
    "# Distribution of people's education\n",
    "data['education'].value_counts().plot(kind='bar')"
   ]
  },
  {
   "cell_type": "code",
   "execution_count": 8,
   "metadata": {
    "collapsed": false
   },
   "outputs": [
    {
     "name": "stdout",
     "output_type": "stream",
     "text": [
      "Mean: 185796.07204\n",
      "Standart deviation: 105657.734035\n"
     ]
    }
   ],
   "source": [
    "# Task 5\n",
    "# Mean and standart deviation of the final weight for divorced people\n",
    "# Mean: 185796.07204\n",
    "# Standart deviation: 105657.734035\n",
    "divorced_people = data[data['marital-status'] == 'Divorced']\n",
    "print 'Mean: %s' % divorced_people['fnlwgt'].mean()\n",
    "print 'Standart deviation: %s' % divorced_people['fnlwgt'].var() ** 0.5"
   ]
  },
  {
   "cell_type": "code",
   "execution_count": 9,
   "metadata": {
    "collapsed": false
   },
   "outputs": [
    {
     "name": "stdout",
     "output_type": "stream",
     "text": [
      "Num of people with high education: 4171, without: 3665\n",
      "\n",
      "It is not true that people with salary >50K mostly have high education\n"
     ]
    }
   ],
   "source": [
    "# Task 6\n",
    "# Check if people who receive over 50k are mostly highly educated\n",
    "\n",
    "# It is obvious that number of people with salary >50K is mostly the same\n",
    "# as number of rich people withot it\n",
    "# Answer is false\n",
    "\n",
    "rich_people = data[data['salary'] == '>50K'] \n",
    "total_count = len(rich_people) * 1.0\n",
    "with_edu = len(rich_people[rich_people['education-num'] >= 12])\n",
    "with_no_edu = len(rich_people[rich_people['education-num'] < 12])\n",
    "print 'Num of people with high education: %s, without: %s\\n' % (with_edu, with_no_edu)\n",
    "if with_edu / total_count - with_no_edu / total_count <= 0.1:\n",
    "    print 'It is not true that people with salary >50K mostly have high education'\n",
    "else:\n",
    "    print 'It is true that people with salary >50K mostly have high education'"
   ]
  },
  {
   "cell_type": "code",
   "execution_count": 10,
   "metadata": {
    "collapsed": false
   },
   "outputs": [
    {
     "name": "stdout",
     "output_type": "stream",
     "text": [
      "Max age of males and females in different races: \n",
      "\n",
      "sex     race              \n",
      "Female  Amer-Indian-Eskimo    80\n",
      "        Asian-Pac-Islander    75\n",
      "        Black                 90\n",
      "        Other                 74\n",
      "        White                 90\n",
      "Male    Amer-Indian-Eskimo    82\n",
      "        Asian-Pac-Islander    90\n",
      "        Black                 90\n",
      "        Other                 77\n",
      "        White                 90\n",
      "Name: age, dtype: int64\n"
     ]
    }
   ],
   "source": [
    "# Task 7\n",
    "# Max age of males and females in different races\n",
    "print 'Max age of males and females in different races: \\n'\n",
    "print data.groupby(['sex', 'race'])['age'].max()"
   ]
  },
  {
   "cell_type": "code",
   "execution_count": 11,
   "metadata": {
    "collapsed": false
   },
   "outputs": [
    {
     "name": "stdout",
     "output_type": "stream",
     "text": [
      "Native countries of farmers and fishers: \n",
      "\n",
      "native-country\n",
      "?                  5\n",
      "Cambodia           1\n",
      "Canada             2\n",
      "Cuba               2\n",
      "El-Salvador        2\n",
      "England            1\n",
      "France             1\n",
      "Germany            1\n",
      "Guatemala          4\n",
      "Hong               1\n",
      "Ireland            1\n",
      "Italy              2\n",
      "Japan              1\n",
      "Mexico            77\n",
      "Philippines        4\n",
      "Poland             1\n",
      "Portugal           1\n",
      "Puerto-Rico        5\n",
      "United-States    879\n",
      "Vietnam            2\n",
      "Yugoslavia         1\n",
      "dtype: int64\n"
     ]
    }
   ],
   "source": [
    "# Task 8\n",
    "farmers_fishers = data[data['occupation'] == 'Farming-fishing']\n",
    "print 'Native countries of farmers and fishers: \\n'\n",
    "print farmers_fishers.groupby('native-country').size()"
   ]
  },
  {
   "cell_type": "code",
   "execution_count": 12,
   "metadata": {
    "collapsed": false
   },
   "outputs": [
    {
     "name": "stdout",
     "output_type": "stream",
     "text": [
      "Ratio of male bachelors to masters: 3.14406065712\n",
      "Ratio of female bachelors to masters: 3.02808988764\n",
      "Male ratio is higher\n"
     ]
    }
   ],
   "source": [
    "# Task 9\n",
    "\n",
    "males = data[data['sex'] == 'Male']\n",
    "females = data[data['sex'] == 'Female']\n",
    "\n",
    "male_bachelors = males[males['education'] == 'Bachelors']\n",
    "male_masters = males[males['education'] == 'Masters']\n",
    "\n",
    "male_ratio = len(male_bachelors) * 1.0 / len(male_masters)\n",
    "\n",
    "female_bachelors = females[females['education'] == 'Bachelors']\n",
    "female_masters = females[females['education'] == 'Masters']\n",
    "\n",
    "female_ratio = len(female_bachelors) * 1.0 / len(female_masters)\n",
    "\n",
    "print 'Ratio of male bachelors to masters: %s' % male_ratio\n",
    "print 'Ratio of female bachelors to masters: %s' % female_ratio\n",
    "\n",
    "if male_ratio > female_ratio: print 'Male ratio is higher' \n",
    "else: print 'Female ratio is higher'\n",
    "\n"
   ]
  },
  {
   "cell_type": "code",
   "execution_count": 13,
   "metadata": {
    "collapsed": false
   },
   "outputs": [
    {
     "name": "stdout",
     "output_type": "stream",
     "text": [
      "Max week hours is 99\n",
      "There are 85 of people who works 99 hours per week\n",
      "\n",
      "Their salary: \n",
      "salary\n",
      "<=50K    60\n",
      ">50K     25\n",
      "dtype: int64\n"
     ]
    }
   ],
   "source": [
    "# Task 10\n",
    "max_hours_num = data['hours-per-week'].max()\n",
    "hark_working_people = data[data['hours-per-week'] == max_hours_num]\n",
    "print 'Max week hours is %s' % max_hours_num\n",
    "print 'There are %d of people who works %d hours per week\\n' % (len(hark_working_people), max_hours_num)\n",
    "\n",
    "print 'Their salary: '\n",
    "print hark_working_people.groupby('salary').size()"
   ]
  },
  {
   "cell_type": "code",
   "execution_count": null,
   "metadata": {
    "collapsed": true
   },
   "outputs": [],
   "source": []
  }
 ],
 "metadata": {
  "kernelspec": {
   "display_name": "Python 2",
   "language": "python",
   "name": "python2"
  },
  "language_info": {
   "codemirror_mode": {
    "name": "ipython",
    "version": 2
   },
   "file_extension": ".py",
   "mimetype": "text/x-python",
   "name": "python",
   "nbconvert_exporter": "python",
   "pygments_lexer": "ipython2",
   "version": "2.7.11"
  }
 },
 "nbformat": 4,
 "nbformat_minor": 0
}
