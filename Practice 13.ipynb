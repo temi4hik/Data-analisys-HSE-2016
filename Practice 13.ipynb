{
 "cells": [
  {
   "cell_type": "code",
   "execution_count": 1,
   "metadata": {
    "collapsed": false
   },
   "outputs": [],
   "source": [
    "import numpy as np\n",
    "import scipy as sp\n",
    "from IPython.display import display, Math, Latex\n"
   ]
  },
  {
   "cell_type": "markdown",
   "metadata": {},
   "source": [
    "# Features for images"
   ]
  },
  {
   "cell_type": "markdown",
   "metadata": {},
   "source": [
    "### Normalized Mutual Information"
   ]
  },
  {
   "cell_type": "markdown",
   "metadata": {},
   "source": [
    "$$MI(X,Y)=H(Y)-H(Y|X)$$\n",
    "$$H(Y)=-\\sum_y{p(y)ln(p(y))}$$\n",
    "$$H(Y|X)=-\\sum_x{p(x)}\\sum_y{p(y|x)ln(p(y|x))}$$\n",
    "$$NMI(X,Y)=\\frac{MI(X,Y)}{H(Y)}$$"
   ]
  },
  {
   "cell_type": "code",
   "execution_count": 2,
   "metadata": {
    "collapsed": false
   },
   "outputs": [],
   "source": [
    "from collections import defaultdict\n",
    "\n",
    "def nmi(x, y):\n",
    "    def probs(X, Y=None):\n",
    "        if Y is None:\n",
    "            alphabet = np.unique(X)\n",
    "            prs = defaultdict(float)\n",
    "        else:\n",
    "            alphabet = np.unique(Y)\n",
    "            prs = defaultdict(dict)\n",
    "\n",
    "        if Y is None:\n",
    "            for x in X:\n",
    "                prs[x] += 1 / float(X.size)\n",
    "        else:\n",
    "            for y in alphabet:\n",
    "                X_filtered = X[(Y == y)]\n",
    "                prs[y] = probs(X_filtered)\n",
    "\n",
    "        return dict(prs)\n",
    "\n",
    "\n",
    "    def entropy(X, Y=None):\n",
    "        s = 0\n",
    "\n",
    "        if Y is None:\n",
    "            X_probs = probs(X)\n",
    "\n",
    "            for p in X_probs.values():\n",
    "                s += p * np.log(p)\n",
    "        else:\n",
    "            Y_probs = probs(Y)\n",
    "            cond_probs = probs(X, Y)\n",
    "\n",
    "            for y, values in cond_probs.iteritems():\n",
    "                for val in values.values():\n",
    "                    s += Y_probs[y] * val * np.log(val)\n",
    "        return -s\n",
    "    \n",
    "    \n",
    "    H_y = entropy(y)\n",
    "    H_yx = entropy(y, x)\n",
    "    \n",
    "    return (H_y - H_yx) / H_y"
   ]
  },
  {
   "cell_type": "code",
   "execution_count": 3,
   "metadata": {
    "collapsed": false
   },
   "outputs": [],
   "source": [
    "def PCA_fit(X, num_components):\n",
    "    n_samples, n_features = X.shape\n",
    "    X_mean = np.mean(X, axis=0)\n",
    "    X_std = np.std(X, axis=0)\n",
    "   \n",
    "    X -= X_mean\n",
    "   \n",
    "    U, S, V = np.linalg.svd(X, full_matrices=False)\n",
    "   \n",
    "    exp_var = (S ** 2) / n_samples\n",
    "    exp_var = exp_var[:num_components]\n",
    "    G = V[:num_components]\n",
    "   \n",
    "    return G.T, exp_var, X_mean, X_std"
   ]
  },
  {
   "cell_type": "markdown",
   "metadata": {},
   "source": [
    "## Dataset load and setup"
   ]
  },
  {
   "cell_type": "code",
   "execution_count": 4,
   "metadata": {
    "collapsed": false
   },
   "outputs": [],
   "source": [
    "# Random state\n",
    "random_state = 0\n",
    "DIMENSIONS = 64"
   ]
  },
  {
   "cell_type": "code",
   "execution_count": 5,
   "metadata": {
    "collapsed": false
   },
   "outputs": [],
   "source": [
    "from sklearn.datasets import load_digits\n",
    "\n",
    "digits = load_digits()\n",
    "targets = digits.target\n",
    "data_imgs = digits.images\n",
    "\n",
    "images = np.zeros((data_imgs.shape[0], data_imgs.shape[1] ** 2))\n",
    "\n",
    "for i in xrange(len(images)):\n",
    "    images[i] = data_imgs[i].ravel()"
   ]
  },
  {
   "cell_type": "code",
   "execution_count": 6,
   "metadata": {
    "collapsed": true
   },
   "outputs": [],
   "source": [
    "from sklearn.cross_validation import train_test_split\n",
    "\n",
    "X_train, X_test, y_train, y_test = train_test_split(images, targets, \n",
    "                                                    train_size=0.6, random_state=random_state)"
   ]
  },
  {
   "cell_type": "markdown",
   "metadata": {
    "collapsed": false
   },
   "source": [
    "## Logistic regression"
   ]
  },
  {
   "cell_type": "code",
   "execution_count": 7,
   "metadata": {
    "collapsed": false
   },
   "outputs": [
    {
     "name": "stdout",
     "output_type": "stream",
     "text": [
      "Score on usual Logistic regression is 0.948539638387\n"
     ]
    }
   ],
   "source": [
    "from sklearn.linear_model import LogisticRegression\n",
    "\n",
    "LR = LogisticRegression()\n",
    "LR.fit(X_train, y_train)\n",
    "\n",
    "baseline_score = LR.score(X_test, y_test)\n",
    "\n",
    "print 'Score on usual Logistic regression is {0}'.format(baseline_score)"
   ]
  },
  {
   "cell_type": "markdown",
   "metadata": {},
   "source": [
    "## Logistic regression using NMI"
   ]
  },
  {
   "cell_type": "code",
   "execution_count": 8,
   "metadata": {
    "collapsed": false
   },
   "outputs": [],
   "source": [
    "# Calculation of nmi for all features (in this dataset, pixels)\n",
    "nmis = np.array([nmi(X_train[:,i], y_train) for i in xrange(X_train.shape[1])])"
   ]
  },
  {
   "cell_type": "code",
   "execution_count": 9,
   "metadata": {
    "collapsed": false
   },
   "outputs": [
    {
     "data": {
      "text/plain": [
       "<matplotlib.colorbar.Colorbar instance at 0x108089a70>"
      ]
     },
     "execution_count": 9,
     "metadata": {},
     "output_type": "execute_result"
    },
    {
     "data": {
      "image/png": "[encoded data removed]",
      "text/plain": [
       "<matplotlib.figure.Figure at 0x107758650>"
      ]
     },
     "metadata": {},
     "output_type": "display_data"
    },
    {
     "data": {
      "image/png": "[encoded data removed]",
      "text/plain": [
       "<matplotlib.figure.Figure at 0x1078d4a10>"
      ]
     },
     "metadata": {},
     "output_type": "display_data"
    },
    {
     "data": {
      "image/png": "[encoded data removed]",
      "text/plain": [
       "<matplotlib.figure.Figure at 0x107b69cd0>"
      ]
     },
     "metadata": {},
     "output_type": "display_data"
    },
    {
     "data": {
      "image/png": "[encoded data removed]",
      "text/plain": [
       "<matplotlib.figure.Figure at 0x107cc8650>"
      ]
     },
     "metadata": {},
     "output_type": "display_data"
    },
    {
     "data": {
      "image/png": "[encoded data removed]",
      "text/plain": [
       "<matplotlib.figure.Figure at 0x107e27810>"
      ]
     },
     "metadata": {},
     "output_type": "display_data"
    },
    {
     "name": "stderr",
     "output_type": "stream",
     "text": [
      "/Library/Python/2.7/site-packages/matplotlib/collections.py:548: FutureWarning: elementwise comparison failed; returning scalar instead, but in the future will perform elementwise comparison\n",
      "  if self._edgecolors == 'face':\n"
     ]
    },
    {
     "data": {
      "image/png": "[encoded data removed]",
      "text/plain": [
       "<matplotlib.figure.Figure at 0x1078d4a50>"
      ]
     },
     "metadata": {},
     "output_type": "display_data"
    }
   ],
   "source": [
    "import matplotlib.pyplot as plt\n",
    "%matplotlib inline\n",
    "\n",
    "plt.title('NMI of labels and features')\n",
    "plt.xlabel('Feature')\n",
    "plt.ylabel('NMI')\n",
    "\n",
    "x = range(64)\n",
    "\n",
    "ax = plt.subplot(111)\n",
    "ax.bar(x, nmis)\n",
    "\n",
    "\n",
    "for i in range(4):\n",
    "    fig = plt.figure()\n",
    "    ax = fig.add_subplot(2, 2, 1)\n",
    "    \n",
    "    begin = i * 2 * 8\n",
    "    \n",
    "    ax.bar(x[begin : begin + 8], nmis[begin : begin + 8])\n",
    "    \n",
    "    ax = fig.add_subplot(2, 2, 2)\n",
    "    ax.bar(x[begin + 8 : begin + 16], nmis[begin + 8 : begin + 16])\n",
    "    \n",
    "\n",
    "\n",
    "fig = plt.figure()\n",
    "\n",
    "nmi_image = nmis.reshape((8, 8))\n",
    "\n",
    "a = fig.add_subplot(111)\n",
    "a.set_title('Feature and result NMI')\n",
    "plt.imshow(nmi_image, interpolation='none', cmap=plt.cm.Greens)\n",
    "plt.colorbar()"
   ]
  },
  {
   "cell_type": "code",
   "execution_count": 10,
   "metadata": {
    "collapsed": false
   },
   "outputs": [
    {
     "name": "stdout",
     "output_type": "stream",
     "text": [
      "With threshold 0.0 score is 0.948539638387, num of features: 64\n",
      "With threshold 0.02 score is 0.948539638387, num of features: 51\n",
      "With threshold 0.04 score is 0.947148817803, num of features: 48\n",
      "With threshold 0.06 score is 0.948539638387, num of features: 47\n",
      "With threshold 0.08 score is 0.945757997218, num of features: 45\n",
      "With threshold 0.1 score is 0.948539638387, num of features: 42\n",
      "With threshold 0.12 score is 0.940194714882, num of features: 36\n",
      "With threshold 0.14 score is 0.936022253129, num of features: 31\n",
      "With threshold 0.16 score is 0.916550764951, num of features: 21\n",
      "With threshold 0.18 score is 0.887343532684, num of features: 16\n",
      "With threshold 0.2 score is 0.749652294854, num of features: 7\n",
      "With threshold 0.22 score is 0.207232267038, num of features: 1\n",
      "\n",
      "\n",
      "Best score: 0.948539638387, num of features: 42\n"
     ]
    }
   ],
   "source": [
    "# nmi values for each feature\n",
    "nmis = np.zeros(X_train.shape[1])\n",
    "\n",
    "for i in range(X_train.shape[1]):\n",
    "    nmis[i] = nmi(X_train[:,i], y_train)\n",
    "\n",
    "max_nmis = max(nmis)\n",
    "nmis_range = np.arange(0, max_nmis, 0.02)\n",
    "\n",
    "i = 0\n",
    "best_sc = 0\n",
    "best_th = 0\n",
    "\n",
    "\n",
    "scores = np.zeros((nmis_range.shape[0], 2))\n",
    "\n",
    "i = 0\n",
    "\n",
    "for th in nmis_range:\n",
    "    r = np.array(range(64))\n",
    "    r = r[(nmis > th)]\n",
    "    \n",
    "    X_new_train = X_train[:,r]\n",
    "    X_new_test = X_test[:,r]\n",
    "    \n",
    "    lr = LogisticRegression()\n",
    "    \n",
    "    lr.fit(X_new_train, y_train)\n",
    "    \n",
    "    sc = lr.score(X_new_test, y_test)\n",
    "    \n",
    "    scores[i][0] = sc\n",
    "    scores[i][1] = X_new_train.shape[1]\n",
    "    i += 1\n",
    "    \n",
    "    \n",
    "    if sc >= best_sc:\n",
    "        best_th = th\n",
    "        best_sc = sc\n",
    "        best_fn = X_new_train.shape[1]\n",
    "    \n",
    "    print 'With threshold {0} score is {1}, num of features: {2}'.format(\n",
    "        th, sc, X_new_train.shape[1])\n",
    "print '\\n'\n",
    "print 'Best score: {0}, num of features: {1}'.format(best_sc, best_fn)"
   ]
  },
  {
   "cell_type": "code",
   "execution_count": 11,
   "metadata": {
    "collapsed": false
   },
   "outputs": [
    {
     "data": {
      "image/png": "[encoded data removed]",
      "text/plain": [
       "<matplotlib.figure.Figure at 0x107e6ddd0>"
      ]
     },
     "metadata": {},
     "output_type": "display_data"
    }
   ],
   "source": [
    "x = nmis_range\n",
    "y = scores[:,0]\n",
    "\n",
    "\n",
    "fix, ax = plt.subplots()\n",
    "\n",
    "plt.title(\"Score using NMI\")\n",
    "plt.xlabel('Threshold')\n",
    "plt.ylabel('Score')\n",
    "\n",
    "\n",
    "x_1 = nmis_range\n",
    "y_1 = [baseline_score] * x_1.size\n",
    "\n",
    "\n",
    "ax.plot(x, y, 'bo', label='Score using NMI')\n",
    "ax.plot(x_1, y_1, 'r', label='Baseline')\n",
    "\n",
    "\n",
    "\n",
    "ax.legend(loc='center right')\n",
    "\n",
    "for i in xrange(scores.shape[0]):\n",
    "    plt.text(x[i], y[i] - 0.05, \"{0}\".format(int(scores[i][1])))\n",
    "\n",
    "plt.show()"
   ]
  },
  {
   "cell_type": "markdown",
   "metadata": {},
   "source": [
    "## Logistic regression using L1 regularization"
   ]
  },
  {
   "cell_type": "code",
   "execution_count": 12,
   "metadata": {
    "collapsed": false
   },
   "outputs": [
    {
     "data": {
      "text/plain": [
       "<matplotlib.legend.Legend at 0x1083fcd50>"
      ]
     },
     "execution_count": 12,
     "metadata": {},
     "output_type": "execute_result"
    },
    {
     "data": {
      "image/png": "[encoded data removed]",
      "text/plain": [
       "<matplotlib.figure.Figure at 0x1083a3910>"
      ]
     },
     "metadata": {},
     "output_type": "display_data"
    }
   ],
   "source": [
    "lr_l1 = LogisticRegression(penalty='l1', C=0.2)\n",
    "\n",
    "lr_l1.fit(X_train, y_train)\n",
    "\n",
    "\n",
    "\n",
    "lr_l1_score = lr_l1.score(X_test, y_test)\n",
    "\n",
    "fix, ax = plt.subplots()\n",
    "\n",
    "plt.xlabel('')\n",
    "plt.ylabel('Score')\n",
    "\n",
    "\n",
    "x_1 = range(10)\n",
    "y_1 = [lr_l1_score] * len(x_1)\n",
    "y_2 = [baseline_score] * len(x_1)\n",
    "\n",
    "# ax.plot(x, y, 'bo', label='Score using NMI')\n",
    "ax.plot(x_1, y_1, 'r', label='L1')\n",
    "ax.plot(x_1, y_2, 'b', label='Baseline')\n",
    "\n",
    "ax.legend(loc='center right')"
   ]
  },
  {
   "cell_type": "code",
   "execution_count": 13,
   "metadata": {
    "collapsed": false
   },
   "outputs": [
    {
     "name": "stdout",
     "output_type": "stream",
     "text": [
      "<built-in method format of str object at 0x108482c30>\n"
     ]
    },
    {
     "data": {
      "text/plain": [
       "<matplotlib.legend.Legend at 0x107fcbc10>"
      ]
     },
     "execution_count": 13,
     "metadata": {},
     "output_type": "execute_result"
    },
    {
     "data": {
      "image/png": "[encoded data removed]",
      "text/plain": [
       "<matplotlib.figure.Figure at 0x10845cb50>"
      ]
     },
     "metadata": {},
     "output_type": "display_data"
    }
   ],
   "source": [
    "from sklearn.tree.tree import DecisionTreeClassifier\n",
    "\n",
    "dtr = DecisionTreeClassifier()\n",
    "dtr.fit(X_train, y_train)\n",
    "sc = dtr.score(X_test, y_test)\n",
    "\n",
    "print 'Random forrest score: {0}'.format\n",
    "\n",
    "\n",
    "fix, ax = plt.subplots()\n",
    "\n",
    "plt.xlabel('')\n",
    "plt.ylabel('Score')\n",
    "\n",
    "\n",
    "x_1 = range(64)\n",
    "y_1 = nmis\n",
    "y_2 = dtr.feature_importances_\n",
    "\n",
    "\n",
    "ax.plot(x_1, y_1, 'r', label='RF feature importances')\n",
    "ax.plot(x_1, y_2, 'b', label='NMI feature importances')\n",
    "\n",
    "ax.legend(loc='best')"
   ]
  },
  {
   "cell_type": "markdown",
   "metadata": {},
   "source": [
    "Yes, those importances are definetly correlated. Both RF and NMI correctly find most unimportant and important features, rises and dropdowns have same trends."
   ]
  },
  {
   "cell_type": "code",
   "execution_count": 14,
   "metadata": {
    "collapsed": false
   },
   "outputs": [
    {
     "data": {
      "text/plain": [
       "<matplotlib.legend.Legend at 0x105af4e10>"
      ]
     },
     "execution_count": 14,
     "metadata": {},
     "output_type": "execute_result"
    },
    {
     "data": {
      "image/png": "[encoded data removed]",
      "text/plain": [
       "<matplotlib.figure.Figure at 0x107f7c110>"
      ]
     },
     "metadata": {},
     "output_type": "display_data"
    }
   ],
   "source": [
    "G, exp_var, X_mean, X_std = PCA_fit(X_train, 60)\n",
    "\n",
    "x = range(60)\n",
    "y = exp_var\n",
    "\n",
    "fix, ax = plt.subplots()\n",
    "\n",
    "plt.xlabel('Component')\n",
    "plt.ylabel('Variance')\n",
    "\n",
    "\n",
    "ax.plot(x, y, 'r', label='Explained variance of components')\n",
    "\n",
    "ax.legend(loc='best')"
   ]
  },
  {
   "cell_type": "code",
   "execution_count": null,
   "metadata": {
    "collapsed": false
   },
   "outputs": [],
   "source": []
  },
  {
   "cell_type": "code",
   "execution_count": null,
   "metadata": {
    "collapsed": false
   },
   "outputs": [],
   "source": []
  },
  {
   "cell_type": "code",
   "execution_count": null,
   "metadata": {
    "collapsed": false
   },
   "outputs": [],
   "source": []
  },
  {
   "cell_type": "code",
   "execution_count": null,
   "metadata": {
    "collapsed": false
   },
   "outputs": [],
   "source": []
  },
  {
   "cell_type": "code",
   "execution_count": null,
   "metadata": {
    "collapsed": false
   },
   "outputs": [],
   "source": []
  },
  {
   "cell_type": "code",
   "execution_count": null,
   "metadata": {
    "collapsed": false
   },
   "outputs": [],
   "source": []
  },
  {
   "cell_type": "code",
   "execution_count": null,
   "metadata": {
    "collapsed": false
   },
   "outputs": [],
   "source": []
  },
  {
   "cell_type": "code",
   "execution_count": null,
   "metadata": {
    "collapsed": false
   },
   "outputs": [],
   "source": []
  },
  {
   "cell_type": "code",
   "execution_count": null,
   "metadata": {
    "collapsed": false
   },
   "outputs": [],
   "source": []
  },
  {
   "cell_type": "code",
   "execution_count": null,
   "metadata": {
    "collapsed": true
   },
   "outputs": [],
   "source": []
  }
 ],
 "metadata": {
  "kernelspec": {
   "display_name": "Python 2",
   "language": "python",
   "name": "python2"
  },
  "language_info": {
   "codemirror_mode": {
    "name": "ipython",
    "version": 2
   },
   "file_extension": ".py",
   "mimetype": "text/x-python",
   "name": "python",
   "nbconvert_exporter": "python",
   "pygments_lexer": "ipython2",
   "version": "2.7.10"
  }
 },
 "nbformat": 4,
 "nbformat_minor": 0
}
