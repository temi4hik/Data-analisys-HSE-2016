{
 "cells": [
  {
   "cell_type": "code",
   "execution_count": 1,
   "metadata": {
    "collapsed": true
   },
   "outputs": [],
   "source": [
    "import numpy as np\n",
    "from numpy import linalg as lg\n",
    "from sklearn.utils import shuffle"
   ]
  },
  {
   "cell_type": "markdown",
   "metadata": {},
   "source": [
    "## Log loss function and its derivative\n",
    "\n",
    "Because log loss function takes vector as parameter we must take derivative of all vectors coordinates as compute their sum\n",
    "\n",
    "<img src=\"https://habrastorage.org/files/c3f/b82/a87/c3fb82a8728b494485038d4aabd0cd95.png\"/>\n",
    "<img src=\"https://habrastorage.org/files/b0a/7d8/429/b0a7d84296674cafa2744d6417ebd960.png\"/>"
   ]
  },
  {
   "cell_type": "code",
   "execution_count": 2,
   "metadata": {
    "collapsed": true
   },
   "outputs": [],
   "source": [
    "def loss_function(w, x, y, gamma):\n",
    "    length = x.shape[0]\n",
    "    f_sum = 0\n",
    "    \n",
    "    for i in range(0, length):\n",
    "        exp_power = -np.dot(w.T, x[i]) * y[i]\n",
    "        exp_value = np.exp(exp_power)\n",
    "        log_value = np.log(1 + exp_value)\n",
    "        f_sum += log_value\n",
    "    \n",
    "    return f_sum\n",
    "\n",
    "def weight_coordinate_derivative(w, x, y, dim):\n",
    "    return -(x[dim] * y * np.exp(-np.dot(w.T, x) * y)) / (1 + np.exp(-np.dot(w.T, x)  * y))\n",
    "\n",
    "def weights_norm_derivative(w, gamma):\n",
    "    length = w.shape[0]\n",
    "    \n",
    "    derivative_sum = 0\n",
    "    res = np.zeros(length)\n",
    "    for i in range(0, length):\n",
    "        res[i] += gamma * w[i] / (sum([w[j] ** 2 for j in range(0, length)]) ** 0.5)\n",
    "    \n",
    "    return res\n",
    "\n",
    "def loss_function_derivative(w, x, y, gamma):\n",
    "    length = x.shape[0]\n",
    "    dimention = w.shape[0]\n",
    "    derivative_sum = 0\n",
    "    \n",
    "    res = np.zeros(dimention)\n",
    "    \n",
    "    for i in range(0, length):\n",
    "        for j in range(0, dimention):\n",
    "            res[j] += weight_coordinate_derivative(w, x[i], y[i], j)\n",
    "            \n",
    "    return res\n",
    "\n",
    "def loss_function_one_object_derivative(w, x, y, gamma):\n",
    "    length = w.shape[0]\n",
    "    \n",
    "    res = np.zeros(length)\n",
    "    \n",
    "    for j in range(0, length):\n",
    "        res[j] += weight_coordinate_derivative(w, x, y, j)\n",
    "    \n",
    "    return res\n"
   ]
  },
  {
   "cell_type": "code",
   "execution_count": 3,
   "metadata": {
    "collapsed": true
   },
   "outputs": [],
   "source": [
    "from sklearn.utils import shuffle\n",
    "\n",
    "def GD(X_train, y_train, max_epoch=1000, alpha=0.1, gamma=0, tol=0.1):\n",
    "    dimension = X_train.shape[1]\n",
    "    num = X_train.shape[0]\n",
    "    \n",
    "#     weights = np.random.uniform(-1.0 / (2 * dimension), 1.0 / (2 * dimension), dimension)\n",
    "    weights = np.zeros(dimension)\n",
    "    l = loss_function(weights, X_train, y_train, gamma)\n",
    "    \n",
    "    l_array = [l]\n",
    "    \n",
    "    for i in range(max_epoch):\n",
    "        weights -= alpha * loss_function_derivative(weights, X_train, y_train, gamma) * 2 # because of normalization\n",
    "\n",
    "        \n",
    "        l_new = loss_function(weights, X_train, y_train, gamma)\n",
    "        \n",
    "        l_array.append(l_new)\n",
    "        \n",
    "        if (abs(l - l_new) < tol):\n",
    "            break\n",
    "        \n",
    "        l = l_new\n",
    "    return weights, l_array\n",
    "    \n",
    "    \n",
    "def SGD(X_train, y_train, max_epoch=1000, alpha=0.1, gamma=0):\n",
    "    \n",
    "    dimension = X_train.shape[1]\n",
    "    num = X_train.shape[0]\n",
    "    \n",
    "    weights = np.zeros(dimension)\n",
    "    \n",
    "    X_train, y_train = shuffle(X_train, y_train, random_state=0)\n",
    "    l = loss_function(weights, X_train, y_train, gamma)\n",
    "    \n",
    "    l_array = [l]\n",
    "    \n",
    "    for i in range(max_epoch):\n",
    "        weights -= alpha / (i + 1) * loss_function_one_object_derivative(weights, X_train[i % num], y_train[i % num], gamma)\n",
    "        new_l = loss_function(weights, X_train, y_train, gamma)\n",
    "        l_array.append(new_l)\n",
    "        \n",
    "    return weights, l_array"
   ]
  },
  {
   "cell_type": "code",
   "execution_count": 4,
   "metadata": {
    "collapsed": false
   },
   "outputs": [
    {
     "name": "stdout",
     "output_type": "stream",
     "text": [
      "[  6.72135024  50.28409094  17.52148503]\n",
      "2.61788823435\n"
     ]
    }
   ],
   "source": [
    "\n",
    "from sklearn.preprocessing import scale\n",
    "\n",
    "x = np.random.uniform(1, 1000, (100, 3))\n",
    "y = np.zeros(100)\n",
    "i = 0\n",
    "\n",
    "x = scale(x)\n",
    "\n",
    "real_w = np.array([7, 45, 13])\n",
    "\n",
    "for obj in x:\n",
    "    y[i] = sum(obj * real_w)\n",
    "    i += 1\n",
    "\n",
    "w, l = GD(x, y, 2000, 0.01, 0)\n",
    "print w\n",
    "print loss_function(w, x, y, 0)"
   ]
  },
  {
   "cell_type": "markdown",
   "metadata": {},
   "source": [
    "## Regularization"
   ]
  },
  {
   "cell_type": "code",
   "execution_count": 5,
   "metadata": {
    "collapsed": false
   },
   "outputs": [],
   "source": [
    "import pickle"
   ]
  },
  {
   "cell_type": "code",
   "execution_count": 6,
   "metadata": {
    "collapsed": false
   },
   "outputs": [],
   "source": [
    "data = pickle.load(open('first_dataset.pkl'))"
   ]
  },
  {
   "cell_type": "code",
   "execution_count": 7,
   "metadata": {
    "collapsed": false
   },
   "outputs": [],
   "source": [
    "test_data = data['test_data']\n",
    "test_labels = data['test_labels']\n",
    "\n",
    "train_data = data['train_data']\n",
    "train_labels = data['train_labels']"
   ]
  },
  {
   "cell_type": "code",
   "execution_count": 8,
   "metadata": {
    "collapsed": false
   },
   "outputs": [],
   "source": [
    "scaled_train_data = scale(train_data)\n",
    "\n",
    "\n",
    "weights, errors = GD(scaled_train_data, train_labels)\n",
    "weights_with_gamma, errors = GD(scaled_train_data, train_labels, gamma=1)"
   ]
  },
  {
   "cell_type": "code",
   "execution_count": 9,
   "metadata": {
    "collapsed": false
   },
   "outputs": [
    {
     "data": {
      "text/plain": [
       "array([ 1.,  0.,  0.,  0.,  0.,  0.,  0.,  0.,  0.,  0.,  0.,  0.,  0.,\n",
       "        0.,  0.,  0.,  0.,  0.,  0.,  0.,  0.,  0.,  0.,  0.,  0.,  0.,\n",
       "        0.,  0.,  0.,  0.,  0.,  0.,  0.,  0.,  0.,  0.,  0.,  0.,  0.,\n",
       "        0.,  0.,  0.,  0.,  0.,  0.,  0.,  0.,  0.,  0.,  0.,  0.,  0.,\n",
       "        0.,  0.,  0.,  0.,  0.,  0.,  0.,  0.,  0.,  0.,  0.,  0.,  0.,\n",
       "        0.,  0.,  0.,  0.,  0.,  0.,  0.,  0.,  0.,  0.,  0.,  0.,  0.,\n",
       "        0.,  0.,  0.,  0.,  0.,  0.,  0.,  0.,  0.,  0.,  0.,  0.,  0.,\n",
       "        0.,  0.,  0.,  0.,  0.,  0.,  0.,  0.,  0.,  0.,  0.,  0.,  0.,\n",
       "        0.,  0.,  0.,  0.,  0.,  0.,  0.,  0.,  0.,  0.,  0.,  0.,  0.,\n",
       "        0.,  0.,  0.,  0.,  0.,  0.,  0.,  0.,  0.,  0.,  0.,  0.,  0.,\n",
       "        0.,  0.,  0.,  0.,  0.,  0.,  0.,  0.,  0.,  0.,  0.,  0.,  0.,\n",
       "        0.,  0.,  0.,  0.,  0.,  0.,  0.,  0.,  0.,  0.,  0.,  0.,  0.,\n",
       "        0.,  0.,  0.,  0.,  0.,  0.,  0.,  0.,  0.,  0.,  0.,  0.,  0.,\n",
       "        0.,  0.,  0.,  0.,  0.,  0.,  0.,  0.,  0.,  0.,  0.,  0.,  0.,\n",
       "        0.,  0.,  0.,  0.,  0.,  0.,  0.,  0.,  0.,  0.,  0.,  0.,  0.,\n",
       "        0.,  0.,  0.,  0.,  0.])"
      ]
     },
     "execution_count": 9,
     "metadata": {},
     "output_type": "execute_result"
    }
   ],
   "source": [
    "result = np.zeros(test_data.shape[0])\n",
    "result_gamma = np.zeros(test_data.shape[0])\n",
    "\n",
    "i = 0\n",
    "for obj in test_data:\n",
    "    res = sum(weights * obj)\n",
    "    res_gamma = sum(weights * obj)\n",
    "    \n",
    "    if res > 0:\n",
    "        result[i] = 1\n",
    "    else:\n",
    "        result[i] = -1\n",
    "        \n",
    "    if res_gamma > 0:\n",
    "        result_gamma[i] = 1\n",
    "    else:\n",
    "        result_gamma[i] = -1\n",
    "    \n",
    "    i += 1\n",
    "    \n",
    "    \n",
    "\n",
    "\n",
    "i = 0\n",
    "\n",
    "test_errors = np.zeros(test_data.shape[0])\n",
    "\n",
    "for res in result:\n",
    "    if res != test_labels[i]:\n",
    "        test_errors[i] = 1\n",
    "\n",
    "test_errors"
   ]
  },
  {
   "cell_type": "markdown",
   "metadata": {
    "collapsed": false
   },
   "source": [
    "## Model evaluation"
   ]
  },
  {
   "cell_type": "code",
   "execution_count": 10,
   "metadata": {
    "collapsed": false
   },
   "outputs": [],
   "source": [
    "data = pickle.load(open('diabetes.pkl'))"
   ]
  },
  {
   "cell_type": "code",
   "execution_count": 12,
   "metadata": {
    "collapsed": false
   },
   "outputs": [],
   "source": [
    "X = data['data']\n",
    "Y = data['labels']\n",
    "\n",
    "\n",
    "X = scale(X)"
   ]
  },
  {
   "cell_type": "code",
   "execution_count": null,
   "metadata": {
    "collapsed": true
   },
   "outputs": [],
   "source": []
  }
 ],
 "metadata": {
  "kernelspec": {
   "display_name": "Python 2",
   "language": "python",
   "name": "python2"
  },
  "language_info": {
   "codemirror_mode": {
    "name": "ipython",
    "version": 2
   },
   "file_extension": ".py",
   "mimetype": "text/x-python",
   "name": "python",
   "nbconvert_exporter": "python",
   "pygments_lexer": "ipython2",
   "version": "2.7.11"
  }
 },
 "nbformat": 4,
 "nbformat_minor": 0
}
