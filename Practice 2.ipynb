{
 "cells": [
  {
   "cell_type": "markdown",
   "metadata": {},
   "source": [
    "# Curse of dimensionality"
   ]
  },
  {
   "cell_type": "code",
   "execution_count": 1,
   "metadata": {
    "collapsed": true
   },
   "outputs": [],
   "source": [
    "import numpy as np\n",
    "import numpy.random as npr"
   ]
  },
  {
   "cell_type": "markdown",
   "metadata": {},
   "source": [
    "## Generating datasets for 200 dimentions"
   ]
  },
  {
   "cell_type": "code",
   "execution_count": 2,
   "metadata": {
    "collapsed": true
   },
   "outputs": [],
   "source": [
    "# Here are constants for our task\n",
    "DIMENTIONS = 200\n",
    "POINTS_NUMBER = 100\n",
    "MIN_BOUND = -1\n",
    "MAX_BOUND = 1\n",
    "\n",
    "\n",
    "# It is an array for datasets of points\n",
    "# each element of array is numpy.Array with 100 d-sized numpy arrays\n",
    "datasets = []\n",
    "\n",
    "\n",
    "for i in range(0, DIMENTIONS):\n",
    "    datasets.append(npr.uniform(-1.0, 1.0, size=(POINTS_NUMBER, i)))\n"
   ]
  },
  {
   "cell_type": "markdown",
   "metadata": {},
   "source": [
    "## Calculating max and min Euclidean distanse from point x in dataset"
   ]
  },
  {
   "cell_type": "code",
   "execution_count": 7,
   "metadata": {
    "collapsed": true
   },
   "outputs": [],
   "source": [
    "# Function to calculate Euclidean distance between two d-dimensional points\n",
    "# Returns float distanse if ok\n",
    "# Returns None if dimensions are not the same\n",
    "def calculate_distanse(point1, point2):\n",
    "    if len(point1) != len(point2):\n",
    "        return None\n",
    "    \n",
    "    dimension = len(point1)\n",
    "    \n",
    "    return sum((point1[i] - point2[i]) ** 2 for i in range(0, dimension)) ** 0.5\n",
    "\n",
    "def nearest_and_furthest_distances(dataset, point):\n",
    "    \n",
    "    \n",
    "    # This number is always less \n",
    "    max_distanse = -1\n",
    "    # This number is always larger, than any possible distanse in this area\n",
    "    min_distanse = abs(MIN_BOUND - MAX_BOUND) * 2 ** 0.5 + 1 \n",
    "    \n",
    "    for pt in dataset:\n",
    "        if (point == pt).all():\n",
    "            continue\n",
    "        \n",
    "        pt_distanse = calculate_distanse(point, pt)\n",
    "        \n",
    "        min_distanse = pt_distanse if pt_distanse < min_distanse else min_distanse\n",
    "        max_distanse = pt_distanse if pt_distanse > max_distanse else max_distanse\n",
    "        \n",
    "    return min_distanse, max_distanse\n"
   ]
  },
  {
   "cell_type": "code",
   "execution_count": 8,
   "metadata": {
    "collapsed": false
   },
   "outputs": [],
   "source": [
    "min_average_distanses = np.zeros(DIMENTIONS)\n",
    "max_average_distanses = np.zeros(DIMENTIONS)\n",
    "ratio_array = np.zeros(DIMENTIONS)\n",
    "\n",
    "dtx = 0\n",
    "\n",
    "for dataset in datasets:\n",
    "    # Temp variables to store max and min distanses for one point\n",
    "    max_distanses = np.zeros(POINTS_NUMBER)\n",
    "    min_distanses = np.zeros(POINTS_NUMBER)\n",
    "    index = 0\n",
    "    for point in dataset:\n",
    "        min_distanse, max_distanse = nearest_and_furthest_distances(dataset, point)\n",
    "        min_distanses[index] = min_distanse\n",
    "        max_distanses[index] = max_distanse\n",
    "        index += 1\n",
    "    \n",
    "    min_average_distanses[dtx] = min_distanses.mean()\n",
    "    max_average_distanses[dtx] = max_distanses.mean()\n",
    "    ratio_array[dtx] = max_average_distanses[dtx] / min_average_distanses[dtx]\n",
    "    dtx += 1\n"
   ]
  },
  {
   "cell_type": "code",
   "execution_count": 9,
   "metadata": {
    "collapsed": true
   },
   "outputs": [],
   "source": [
    "import matplotlib.pyplot as plt\n",
    "%matplotlib inline"
   ]
  },
  {
   "cell_type": "code",
   "execution_count": 11,
   "metadata": {
    "collapsed": false
   },
   "outputs": [],
   "source": [
    "X = np.arange(0, DIMENTIONS - 1)\n",
    "Y1 = min_average_distanses\n",
    "Y2 = max_average_distanses"
   ]
  },
  {
   "cell_type": "code",
   "execution_count": 14,
   "metadata": {
    "collapsed": false
   },
   "outputs": [
    {
     "data": {
      "text/plain": [
       "[<matplotlib.lines.Line2D at 0x7f7348df5190>,\n",
       " <matplotlib.lines.Line2D at 0x7f7348df5410>]"
      ]
     },
     "execution_count": 14,
     "metadata": {},
     "output_type": "execute_result"
    },
    {
     "data": {
      "image/png": "[encoded data removed]",
      "text/plain": [
       "<matplotlib.figure.Figure at 0x7f735188d910>"
      ]
     },
     "metadata": {},
     "output_type": "display_data"
    }
   ],
   "source": [
    "plt.plot(X, Y1[X], 'b', X, Y2[X], 'r')"
   ]
  },
  {
   "cell_type": "code",
   "execution_count": 17,
   "metadata": {
    "collapsed": false
   },
   "outputs": [
    {
     "data": {
      "text/plain": [
       "[<matplotlib.lines.Line2D at 0x7f7348c02a50>]"
      ]
     },
     "execution_count": 17,
     "metadata": {},
     "output_type": "execute_result"
    },
    {
     "data": {
      "image/png": "[encoded data removed]",
      "text/plain": [
       "<matplotlib.figure.Figure at 0x7f7348de07d0>"
      ]
     },
     "metadata": {},
     "output_type": "display_data"
    }
   ],
   "source": [
    "plt.plot(X, ratio_array[X], 'g')"
   ]
  },
  {
   "cell_type": "markdown",
   "metadata": {},
   "source": [
    "# Visualization of the decision surface"
   ]
  },
  {
   "cell_type": "code",
   "execution_count": 29,
   "metadata": {
    "collapsed": true
   },
   "outputs": [],
   "source": [
    "import pylab as pl\n",
    "from sklearn import neighbors, datasets, tree"
   ]
  },
  {
   "cell_type": "code",
   "execution_count": 19,
   "metadata": {
    "collapsed": true
   },
   "outputs": [],
   "source": [
    "mu1 = np.array([3., 3.])\n",
    "mu2 = np.array([1., 1.])\n",
    "\n",
    "S1 = np.eye(2)\n",
    "S2 = np.eye(2)"
   ]
  },
  {
   "cell_type": "code",
   "execution_count": 20,
   "metadata": {
    "collapsed": true
   },
   "outputs": [],
   "source": [
    "X1 = npr.multivariate_normal(mu1, S1, 100)\n",
    "X2 = npr.multivariate_normal(mu2, S2, 100)"
   ]
  },
  {
   "cell_type": "code",
   "execution_count": 22,
   "metadata": {
    "collapsed": false
   },
   "outputs": [
    {
     "data": {
      "text/plain": [
       "<matplotlib.collections.PathCollection at 0x7f731537b790>"
      ]
     },
     "execution_count": 22,
     "metadata": {},
     "output_type": "execute_result"
    },
    {
     "data": {
      "image/png": "[encoded data removed]",
      "text/plain": [
       "<matplotlib.figure.Figure at 0x7f7327afcc10>"
      ]
     },
     "metadata": {},
     "output_type": "display_data"
    }
   ],
   "source": [
    "plt.scatter(X1[:,0], X1[:,1], c='b')\n",
    "plt.scatter(X2[:,0], X2[:,1], c='r')"
   ]
  },
  {
   "cell_type": "code",
   "execution_count": 23,
   "metadata": {
    "collapsed": true
   },
   "outputs": [],
   "source": [
    "X = np.vstack([X1, X2])"
   ]
  },
  {
   "cell_type": "code",
   "execution_count": 25,
   "metadata": {
    "collapsed": false
   },
   "outputs": [],
   "source": [
    "Y = np.zeros((200,), dtype=int)\n",
    "Y[100:] = 1"
   ]
  },
  {
   "cell_type": "markdown",
   "metadata": {},
   "source": [
    "## KNeighborsClassifier"
   ]
  },
  {
   "cell_type": "code",
   "execution_count": 26,
   "metadata": {
    "collapsed": true
   },
   "outputs": [],
   "source": [
    "h = .02\n",
    "\n",
    "knn = neighbors.KNeighborsClassifier()"
   ]
  },
  {
   "cell_type": "code",
   "execution_count": 27,
   "metadata": {
    "collapsed": false
   },
   "outputs": [
    {
     "data": {
      "text/plain": [
       "KNeighborsClassifier(algorithm='auto', leaf_size=30, metric='minkowski',\n",
       "           metric_params=None, n_neighbors=5, p=2, weights='uniform')"
      ]
     },
     "execution_count": 27,
     "metadata": {},
     "output_type": "execute_result"
    }
   ],
   "source": [
    "# we create an instance of Neighbours Classifier and fit the data.\n",
    "knn.fit(X, Y)"
   ]
  },
  {
   "cell_type": "code",
   "execution_count": 28,
   "metadata": {
    "collapsed": false
   },
   "outputs": [
    {
     "data": {
      "image/png": "[encoded data removed]",
      "text/plain": [
       "<matplotlib.figure.Figure at 0x7f7348c941d0>"
      ]
     },
     "metadata": {},
     "output_type": "display_data"
    }
   ],
   "source": [
    "# Plot the decision boundary. For that, we will asign a color to each\n",
    "# point in the mesh [x_min, m_max]x[y_min, y_max].\n",
    "x_min, x_max = X[:,0].min() - .5, X[:,0].max() + .5\n",
    "y_min, y_max = X[:,1].min() - .5, X[:,1].max() + .5\n",
    "xx, yy = np.meshgrid(np.arange(x_min, x_max, h), np.arange(y_min, y_max, h))\n",
    "Z = knn.predict(np.c_[xx.ravel(), yy.ravel()])\n",
    "\n",
    "# Put the result into a color plot\n",
    "Z = Z.reshape(xx.shape)\n",
    "pl.figure(1, figsize=(4, 3))\n",
    "pl.set_cmap(pl.cm.Paired)\n",
    "pl.pcolormesh(xx, yy, Z)\n",
    "\n",
    "# Plot also the training points\n",
    "pl.scatter(X[:,0], X[:,1],c=Y )\n",
    "\n",
    "\n",
    "pl.xlim(xx.min(), xx.max())\n",
    "pl.ylim(yy.min(), yy.max())\n",
    "pl.xticks(())\n",
    "pl.yticks(())\n",
    "\n",
    "pl.show()"
   ]
  },
  {
   "cell_type": "markdown",
   "metadata": {},
   "source": [
    "## DecisionTreeClassifier"
   ]
  },
  {
   "cell_type": "code",
   "execution_count": 30,
   "metadata": {
    "collapsed": true
   },
   "outputs": [],
   "source": [
    "knn = tree.DecisionTreeClassifier()"
   ]
  },
  {
   "cell_type": "code",
   "execution_count": 31,
   "metadata": {
    "collapsed": false
   },
   "outputs": [
    {
     "data": {
      "text/plain": [
       "DecisionTreeClassifier(class_weight=None, criterion='gini', max_depth=None,\n",
       "            max_features=None, max_leaf_nodes=None, min_samples_leaf=1,\n",
       "            min_samples_split=2, min_weight_fraction_leaf=0.0,\n",
       "            random_state=None, splitter='best')"
      ]
     },
     "execution_count": 31,
     "metadata": {},
     "output_type": "execute_result"
    }
   ],
   "source": [
    "# we create an instance of Decision Tree Classifier and fit the data.\n",
    "knn.fit(X, Y)"
   ]
  },
  {
   "cell_type": "code",
   "execution_count": 32,
   "metadata": {
    "collapsed": false
   },
   "outputs": [
    {
     "data": {
      "image/png": "[encoded data removed]",
      "text/plain": [
       "<matplotlib.figure.Figure at 0x7f73152d2390>"
      ]
     },
     "metadata": {},
     "output_type": "display_data"
    }
   ],
   "source": [
    "# Plot the decision boundary. For that, we will asign a color to each\n",
    "# point in the mesh [x_min, m_max]x[y_min, y_max].\n",
    "x_min, x_max = X[:,0].min() - .5, X[:,0].max() + .5\n",
    "y_min, y_max = X[:,1].min() - .5, X[:,1].max() + .5\n",
    "xx, yy = np.meshgrid(np.arange(x_min, x_max, h), np.arange(y_min, y_max, h))\n",
    "Z = knn.predict(np.c_[xx.ravel(), yy.ravel()])\n",
    "\n",
    "# Put the result into a color plot\n",
    "Z = Z.reshape(xx.shape)\n",
    "pl.figure(1, figsize=(4, 3))\n",
    "pl.set_cmap(pl.cm.Paired)\n",
    "pl.pcolormesh(xx, yy, Z)\n",
    "\n",
    "# Plot also the training points\n",
    "pl.scatter(X[:,0], X[:,1],c=Y )\n",
    "\n",
    "\n",
    "pl.xlim(xx.min(), xx.max())\n",
    "pl.ylim(yy.min(), yy.max())\n",
    "pl.xticks(())\n",
    "pl.yticks(())\n",
    "\n",
    "pl.show()"
   ]
  },
  {
   "cell_type": "code",
   "execution_count": 33,
   "metadata": {
    "collapsed": true
   },
   "outputs": [],
   "source": [
    "import numpy as np\n",
    "import pandas as pd\n",
    "import pylab as pl"
   ]
  },
  {
   "cell_type": "markdown",
   "metadata": {},
   "source": [
    "# kNN and decision tree comparison"
   ]
  },
  {
   "cell_type": "code",
   "execution_count": 34,
   "metadata": {
    "collapsed": true
   },
   "outputs": [],
   "source": [
    "data = pd.read_csv('adult.data.csv')"
   ]
  },
  {
   "cell_type": "code",
   "execution_count": 36,
   "metadata": {
    "collapsed": false
   },
   "outputs": [],
   "source": [
    "X1 = data.drop(['workclass', 'education', 'marital-status',\n",
    "                'occupation', 'relationship', 'race',\n",
    "                'sex', 'native-country', 'salary'], axis=1)\n",
    "\n",
    "X2 = pd.get_dummies(data.drop(['salary'], axis=1))\n",
    "\n",
    "Y = data['salary']"
   ]
  },
  {
   "cell_type": "code",
   "execution_count": 37,
   "metadata": {
    "collapsed": true
   },
   "outputs": [],
   "source": [
    "from sklearn.cross_validation import train_test_split"
   ]
  },
  {
   "cell_type": "code",
   "execution_count": 44,
   "metadata": {
    "collapsed": true
   },
   "outputs": [],
   "source": [
    "X1_train, X1_test, X2_train, X2_test, Y_train, Y_test = train_test_split(X1, X2, Y, test_size=.7, train_size=.3)"
   ]
  },
  {
   "cell_type": "code",
   "execution_count": null,
   "metadata": {
    "collapsed": false
   },
   "outputs": [],
   "source": []
  },
  {
   "cell_type": "code",
   "execution_count": 46,
   "metadata": {
    "collapsed": true
   },
   "outputs": [],
   "source": [
    "from sklearn.preprocessing import StandardScaler"
   ]
  },
  {
   "cell_type": "code",
   "execution_count": 49,
   "metadata": {
    "collapsed": false
   },
   "outputs": [],
   "source": [
    "scaled_X1 = StandardScaler().fit(X1_train)\n",
    "scaled_X2 = StandardScaler().fit(X2_train)"
   ]
  },
  {
   "cell_type": "code",
   "execution_count": 52,
   "metadata": {
    "collapsed": false
   },
   "outputs": [],
   "source": [
    "transformed_X1_train = StandardScaler().fit_transform(X1_train)\n",
    "transformed_X1_test = StandardScaler().fit_transform(X1_test)\n",
    "\n",
    "transformed_X2_train = StandardScaler().fit_transform(X2_train)\n",
    "transformed_X2_test = StandardScaler().fit_transform(X2_test)"
   ]
  },
  {
   "cell_type": "markdown",
   "metadata": {},
   "source": [
    "### kNN-neighbours classifier"
   ]
  },
  {
   "cell_type": "code",
   "execution_count": 55,
   "metadata": {
    "collapsed": false
   },
   "outputs": [
    {
     "name": "stdout",
     "output_type": "stream",
     "text": [
      "knn_X1 score with k = 2 is 0.780547752809\n",
      "knn_X1_scaled score with k = 2 is 0.800517907303\n",
      "knn_X2 score with k = 2 is 0.780723314607\n",
      "knn_X2_scaled score with k = 2 is 0.803063553371\n",
      "\n",
      "\n",
      "knn_X1 score with k = 3 is 0.755705758427\n",
      "knn_X1_scaled score with k = 3 is 0.791959269663\n",
      "knn_X2 score with k = 3 is 0.755661867978\n",
      "knn_X2_scaled score with k = 3 is 0.807452598315\n",
      "\n",
      "\n",
      "knn_X1 score with k = 4 is 0.786472963483\n",
      "knn_X1_scaled score with k = 4 is 0.808067064607\n",
      "knn_X2 score with k = 4 is 0.786648525281\n",
      "knn_X2_scaled score with k = 4 is 0.813728932584\n",
      "\n",
      "\n",
      "knn_X1 score with k = 5 is 0.772296348315\n",
      "knn_X1_scaled score with k = 5 is 0.804424157303\n",
      "knn_X2 score with k = 5 is 0.772340238764\n",
      "knn_X2_scaled score with k = 5 is 0.813992275281\n",
      "\n",
      "\n",
      "knn_X1 score with k = 6 is 0.788009129213\n",
      "knn_X1_scaled score with k = 6 is 0.812324438202\n",
      "knn_X2 score with k = 6 is 0.788009129213\n",
      "knn_X2_scaled score with k = 6 is 0.817371839888\n",
      "\n",
      "\n",
      "knn_X1 score with k = 7 is 0.780240519663\n",
      "knn_X1_scaled score with k = 7 is 0.809471558989\n",
      "knn_X2 score with k = 7 is 0.780328300562\n",
      "knn_X2_scaled score with k = 7 is 0.820005266854\n",
      "\n",
      "\n",
      "knn_X1 score with k = 8 is 0.791300912921\n",
      "knn_X1_scaled score with k = 8 is 0.813070575843\n",
      "knn_X2 score with k = 8 is 0.791344803371\n",
      "knn_X2_scaled score with k = 8 is 0.820224719101\n",
      "\n",
      "\n",
      "knn_X1 score with k = 9 is 0.78748244382\n",
      "knn_X1_scaled score with k = 9 is 0.81091994382\n",
      "knn_X2 score with k = 9 is 0.78752633427\n",
      "knn_X2_scaled score with k = 9 is 0.821014747191\n",
      "\n",
      "\n"
     ]
    }
   ],
   "source": [
    "# kNN-neighbours classifier\n",
    "# here will be different of classifiers depending on k\n",
    "# k would be: (2, 10)\n",
    "\n",
    "K_VALUES = range(2, 10)\n",
    "\n",
    "knn_X1 = []\n",
    "knn_X1_scaled = []\n",
    "\n",
    "knn_X2 = []\n",
    "knn_X2_scaled = []\n",
    "\n",
    "for k in K_VALUES:\n",
    "    knn_X1.append(neighbors.KNeighborsClassifier(n_neighbors=k))\n",
    "    knn_X2.append(neighbors.KNeighborsClassifier(n_neighbors=k))\n",
    "    \n",
    "    knn_X1_scaled.append(neighbors.KNeighborsClassifier(n_neighbors=k))\n",
    "    knn_X2_scaled.append(neighbors.KNeighborsClassifier(n_neighbors=k))\n",
    "\n",
    "    \n",
    "for k in K_VALUES:\n",
    "    knn_X1[k - 2].fit(X1_train, Y_train)\n",
    "    knn_X1_scaled[k - 2].fit(transformed_X1_train, Y_train)\n",
    "    \n",
    "    knn_X2[k - 2].fit(X2_train, Y_train)\n",
    "    knn_X2_scaled[k - 2].fit(transformed_X2_train, Y_train)\n",
    "\n",
    "for k in K_VALUES:\n",
    "    print 'knn_X1 score with k = {0} is {1}'.format(k, knn_X1[k - 2].score(X1_test, Y_test))\n",
    "    print 'knn_X1_scaled score with k = {0} is {1}'.format(k, knn_X1_scaled[k - 2].score(transformed_X1_test, Y_test))\n",
    "    print 'knn_X2 score with k = {0} is {1}'.format(k, knn_X2[k - 2].score(X2_test, Y_test))\n",
    "    print 'knn_X2_scaled score with k = {0} is {1}'.format(k, knn_X2_scaled[k - 2].score(transformed_X2_test, Y_test))\n",
    "    print '\\n'\n"
   ]
  },
  {
   "cell_type": "markdown",
   "metadata": {},
   "source": [
    "From all those numbers we can see that KNN scaled test gives the best results at all k during knn-classifying\n",
    "From selected tested scope (2 – 9) the best value of k is 8 or 9\n",
    "Standartization makes knn classifying better"
   ]
  },
  {
   "cell_type": "markdown",
   "metadata": {},
   "source": [
    "### Decision Tree Classifier"
   ]
  },
  {
   "cell_type": "code",
   "execution_count": 76,
   "metadata": {
    "collapsed": false
   },
   "outputs": [
    {
     "name": "stdout",
     "output_type": "stream",
     "text": [
      "dtc_X1 score with min_samples_leaf = 1 and max_depth = None is 0.76716116573\n",
      "dtc_X1_scaled score with min_samples_leaf = 1 and max_depth = None is 0.751799508427\n",
      "dtc_X2 score with min_samples_leaf = 1 and max_depth = None is 0.809778792135\n",
      "dtc_X2_scaled score with min_samples_leaf = 1 and max_depth = None is 0.80315133427\n",
      "\n",
      "\n",
      "dtc_X1 score with min_samples_leaf = 1 and max_depth = 11 is 0.82184866573\n",
      "dtc_X1_scaled score with min_samples_leaf = 1 and max_depth = 11 is 0.805038623596\n",
      "dtc_X2 score with min_samples_leaf = 1 and max_depth = 11 is 0.843223314607\n",
      "dtc_X2_scaled score with min_samples_leaf = 1 and max_depth = 11 is 0.837078651685\n",
      "\n",
      "\n",
      "dtc_X1 score with min_samples_leaf = 1 and max_depth = 12 is 0.817415730337\n",
      "dtc_X1_scaled score with min_samples_leaf = 1 and max_depth = 12 is 0.79920119382\n",
      "dtc_X2 score with min_samples_leaf = 1 and max_depth = 12 is 0.83909761236\n",
      "dtc_X2_scaled score with min_samples_leaf = 1 and max_depth = 12 is 0.833347963483\n",
      "\n",
      "\n",
      "dtc_X1 score with min_samples_leaf = 1 and max_depth = 13 is 0.813070575843\n",
      "dtc_X1_scaled score with min_samples_leaf = 1 and max_depth = 13 is 0.796172752809\n",
      "dtc_X2 score with min_samples_leaf = 1 and max_depth = 13 is 0.836332514045\n",
      "dtc_X2_scaled score with min_samples_leaf = 1 and max_depth = 13 is 0.829880617978\n",
      "\n",
      "\n",
      "dtc_X1 score with min_samples_leaf = 1 and max_depth = 14 is 0.809076544944\n",
      "dtc_X1_scaled score with min_samples_leaf = 1 and max_depth = 14 is 0.791213132022\n",
      "dtc_X2 score with min_samples_leaf = 1 and max_depth = 14 is 0.835059691011\n",
      "dtc_X2_scaled score with min_samples_leaf = 1 and max_depth = 14 is 0.828256671348\n",
      "\n",
      "\n",
      "dtc_X1 score with min_samples_leaf = 1 and max_depth = 15 is 0.804643609551\n",
      "dtc_X1_scaled score with min_samples_leaf = 1 and max_depth = 15 is 0.786516853933\n",
      "dtc_X2 score with min_samples_leaf = 1 and max_depth = 15 is 0.830977879213\n",
      "dtc_X2_scaled score with min_samples_leaf = 1 and max_depth = 15 is 0.825316011236\n",
      "\n",
      "\n",
      "dtc_X1 score with min_samples_leaf = 1 and max_depth = 16 is 0.803634129213\n",
      "dtc_X1_scaled score with min_samples_leaf = 1 and max_depth = 16 is 0.785507373596\n",
      "dtc_X2 score with min_samples_leaf = 1 and max_depth = 16 is 0.830758426966\n",
      "dtc_X2_scaled score with min_samples_leaf = 1 and max_depth = 16 is 0.824613764045\n",
      "\n",
      "\n",
      "dtc_X1 score with min_samples_leaf = 1 and max_depth = 17 is 0.794856039326\n",
      "dtc_X1_scaled score with min_samples_leaf = 1 and max_depth = 17 is 0.776509831461\n",
      "dtc_X2 score with min_samples_leaf = 1 and max_depth = 17 is 0.828037219101\n",
      "dtc_X2_scaled score with min_samples_leaf = 1 and max_depth = 17 is 0.8203125\n",
      "\n",
      "\n",
      "dtc_X1 score with min_samples_leaf = 1 and max_depth = 18 is 0.79064255618\n",
      "dtc_X1_scaled score with min_samples_leaf = 1 and max_depth = 18 is 0.774578651685\n",
      "dtc_X2 score with min_samples_leaf = 1 and max_depth = 18 is 0.827159410112\n",
      "dtc_X2_scaled score with min_samples_leaf = 1 and max_depth = 18 is 0.821146418539\n",
      "\n",
      "\n",
      "dtc_X1 score with min_samples_leaf = 1 and max_depth = 19 is 0.787789676966\n",
      "dtc_X1_scaled score with min_samples_leaf = 1 and max_depth = 19 is 0.770628511236\n",
      "dtc_X2 score with min_samples_leaf = 1 and max_depth = 19 is 0.821980337079\n",
      "dtc_X2_scaled score with min_samples_leaf = 1 and max_depth = 19 is 0.815967345506\n",
      "\n",
      "\n",
      "dtc_X1 score with min_samples_leaf = 2 and max_depth = None is 0.789281952247\n",
      "dtc_X1_scaled score with min_samples_leaf = 2 and max_depth = None is 0.77418363764\n",
      "dtc_X2 score with min_samples_leaf = 2 and max_depth = None is 0.822375351124\n",
      "dtc_X2_scaled score with min_samples_leaf = 2 and max_depth = None is 0.81719627809\n",
      "\n",
      "\n",
      "dtc_X1 score with min_samples_leaf = 2 and max_depth = 11 is 0.823165379213\n",
      "dtc_X1_scaled score with min_samples_leaf = 2 and max_depth = 11 is 0.807935393258\n",
      "dtc_X2 score with min_samples_leaf = 2 and max_depth = 11 is 0.845066713483\n",
      "dtc_X2_scaled score with min_samples_leaf = 2 and max_depth = 11 is 0.839141502809\n",
      "\n",
      "\n",
      "dtc_X1 score with min_samples_leaf = 2 and max_depth = 12 is 0.820575842697\n",
      "dtc_X1_scaled score with min_samples_leaf = 2 and max_depth = 12 is 0.80389747191\n",
      "dtc_X2 score with min_samples_leaf = 2 and max_depth = 12 is 0.84058988764\n",
      "dtc_X2_scaled score with min_samples_leaf = 2 and max_depth = 12 is 0.834181882022\n",
      "\n",
      "\n",
      "dtc_X1 score with min_samples_leaf = 2 and max_depth = 13 is 0.817898525281\n",
      "dtc_X1_scaled score with min_samples_leaf = 2 and max_depth = 13 is 0.800561797753\n",
      "dtc_X2 score with min_samples_leaf = 2 and max_depth = 13 is 0.839668188202\n",
      "dtc_X2_scaled score with min_samples_leaf = 2 and max_depth = 13 is 0.83124122191\n",
      "\n",
      "\n",
      "dtc_X1 score with min_samples_leaf = 2 and max_depth = 14 is 0.815704002809\n",
      "dtc_X1_scaled score with min_samples_leaf = 2 and max_depth = 14 is 0.799552317416\n",
      "dtc_X2 score with min_samples_leaf = 2 and max_depth = 14 is 0.838483146067\n",
      "dtc_X2_scaled score with min_samples_leaf = 2 and max_depth = 14 is 0.831811797753\n",
      "\n",
      "\n",
      "dtc_X1 score with min_samples_leaf = 2 and max_depth = 15 is 0.811841643258\n",
      "dtc_X1_scaled score with min_samples_leaf = 2 and max_depth = 15 is 0.794636587079\n",
      "dtc_X2 score with min_samples_leaf = 2 and max_depth = 15 is 0.835805828652\n",
      "dtc_X2_scaled score with min_samples_leaf = 2 and max_depth = 15 is 0.829353932584\n",
      "\n",
      "\n",
      "dtc_X1 score with min_samples_leaf = 2 and max_depth = 16 is 0.809603230337\n",
      "dtc_X1_scaled score with min_samples_leaf = 2 and max_depth = 16 is 0.793670997191\n",
      "dtc_X2 score with min_samples_leaf = 2 and max_depth = 16 is 0.835761938202\n",
      "dtc_X2_scaled score with min_samples_leaf = 2 and max_depth = 16 is 0.830056179775\n",
      "\n",
      "\n",
      "dtc_X1 score with min_samples_leaf = 2 and max_depth = 17 is 0.805301966292\n",
      "dtc_X1_scaled score with min_samples_leaf = 2 and max_depth = 17 is 0.787262991573\n",
      "dtc_X2 score with min_samples_leaf = 2 and max_depth = 17 is 0.833655196629\n",
      "dtc_X2_scaled score with min_samples_leaf = 2 and max_depth = 17 is 0.828344452247\n",
      "\n",
      "\n",
      "dtc_X1 score with min_samples_leaf = 2 and max_depth = 18 is 0.801439606742\n",
      "dtc_X1_scaled score with min_samples_leaf = 2 and max_depth = 18 is 0.785331811798\n",
      "dtc_X2 score with min_samples_leaf = 2 and max_depth = 18 is 0.834094101124\n",
      "dtc_X2_scaled score with min_samples_leaf = 2 and max_depth = 18 is 0.827993328652\n",
      "\n",
      "\n",
      "dtc_X1 score with min_samples_leaf = 2 and max_depth = 19 is 0.79920119382\n",
      "dtc_X1_scaled score with min_samples_leaf = 2 and max_depth = 19 is 0.781206109551\n",
      "dtc_X2 score with min_samples_leaf = 2 and max_depth = 19 is 0.831899578652\n",
      "dtc_X2_scaled score with min_samples_leaf = 2 and max_depth = 19 is 0.826193820225\n",
      "\n",
      "\n",
      "dtc_X1 score with min_samples_leaf = 3 and max_depth = None is 0.784102879213\n",
      "dtc_X1_scaled score with min_samples_leaf = 3 and max_depth = None is 0.770935744382\n",
      "dtc_X2 score with min_samples_leaf = 3 and max_depth = None is 0.815747893258\n",
      "dtc_X2_scaled score with min_samples_leaf = 3 and max_depth = None is 0.808681530899\n",
      "\n",
      "\n",
      "dtc_X1 score with min_samples_leaf = 3 and max_depth = 11 is 0.821365870787\n",
      "dtc_X1_scaled score with min_samples_leaf = 3 and max_depth = 11 is 0.807891502809\n",
      "dtc_X2 score with min_samples_leaf = 3 and max_depth = 11 is 0.841731039326\n",
      "dtc_X2_scaled score with min_samples_leaf = 3 and max_depth = 11 is 0.835981390449\n",
      "\n",
      "\n",
      "dtc_X1 score with min_samples_leaf = 3 and max_depth = 12 is 0.818030196629\n",
      "dtc_X1_scaled score with min_samples_leaf = 3 and max_depth = 12 is 0.802054073034\n",
      "dtc_X2 score with min_samples_leaf = 3 and max_depth = 12 is 0.837956460674\n",
      "dtc_X2_scaled score with min_samples_leaf = 3 and max_depth = 12 is 0.831329002809\n",
      "\n",
      "\n",
      "dtc_X1 score with min_samples_leaf = 3 and max_depth = 13 is 0.81408005618\n",
      "dtc_X1_scaled score with min_samples_leaf = 3 and max_depth = 13 is 0.798674508427\n",
      "dtc_X2 score with min_samples_leaf = 3 and max_depth = 13 is 0.836200842697\n",
      "dtc_X2_scaled score with min_samples_leaf = 3 and max_depth = 13 is 0.828739466292\n",
      "\n",
      "\n",
      "dtc_X1 score with min_samples_leaf = 3 and max_depth = 14 is 0.813509480337\n",
      "dtc_X1_scaled score with min_samples_leaf = 3 and max_depth = 14 is 0.798279494382\n",
      "dtc_X2 score with min_samples_leaf = 3 and max_depth = 14 is 0.833128511236\n",
      "dtc_X2_scaled score with min_samples_leaf = 3 and max_depth = 14 is 0.827203300562\n",
      "\n",
      "\n",
      "dtc_X1 score with min_samples_leaf = 3 and max_depth = 15 is 0.806925912921\n",
      "dtc_X1_scaled score with min_samples_leaf = 3 and max_depth = 15 is 0.792485955056\n",
      "dtc_X2 score with min_samples_leaf = 3 and max_depth = 15 is 0.83049508427\n",
      "dtc_X2_scaled score with min_samples_leaf = 3 and max_depth = 15 is 0.825140449438\n",
      "\n",
      "\n",
      "dtc_X1 score with min_samples_leaf = 3 and max_depth = 16 is 0.805784761236\n",
      "dtc_X1_scaled score with min_samples_leaf = 3 and max_depth = 16 is 0.790379213483\n",
      "dtc_X2 score with min_samples_leaf = 3 and max_depth = 16 is 0.829134480337\n",
      "dtc_X2_scaled score with min_samples_leaf = 3 and max_depth = 16 is 0.822375351124\n",
      "\n",
      "\n",
      "dtc_X1 score with min_samples_leaf = 3 and max_depth = 17 is 0.800386235955\n",
      "dtc_X1_scaled score with min_samples_leaf = 3 and max_depth = 17 is 0.785463483146\n",
      "dtc_X2 score with min_samples_leaf = 3 and max_depth = 17 is 0.828827247191\n",
      "dtc_X2_scaled score with min_samples_leaf = 3 and max_depth = 17 is 0.822463132022\n",
      "\n",
      "\n",
      "dtc_X1 score with min_samples_leaf = 3 and max_depth = 18 is 0.797401685393\n",
      "dtc_X1_scaled score with min_samples_leaf = 3 and max_depth = 18 is 0.78204002809\n",
      "dtc_X2 score with min_samples_leaf = 3 and max_depth = 18 is 0.826062148876\n",
      "dtc_X2_scaled score with min_samples_leaf = 3 and max_depth = 18 is 0.820575842697\n",
      "\n",
      "\n",
      "dtc_X1 score with min_samples_leaf = 3 and max_depth = 19 is 0.795382724719\n",
      "dtc_X1_scaled score with min_samples_leaf = 3 and max_depth = 19 is 0.779933286517\n",
      "dtc_X2 score with min_samples_leaf = 3 and max_depth = 19 is 0.826062148876\n",
      "dtc_X2_scaled score with min_samples_leaf = 3 and max_depth = 19 is 0.819829705056\n",
      "\n",
      "\n",
      "dtc_X1 score with min_samples_leaf = 4 and max_depth = None is 0.798806179775\n",
      "dtc_X1_scaled score with min_samples_leaf = 4 and max_depth = None is 0.78436622191\n",
      "dtc_X2 score with min_samples_leaf = 4 and max_depth = None is 0.823735955056\n",
      "dtc_X2_scaled score with min_samples_leaf = 4 and max_depth = None is 0.818030196629\n",
      "\n",
      "\n",
      "dtc_X1 score with min_samples_leaf = 4 and max_depth = 11 is 0.821673103933\n",
      "dtc_X1_scaled score with min_samples_leaf = 4 and max_depth = 11 is 0.807584269663\n",
      "dtc_X2 score with min_samples_leaf = 4 and max_depth = 11 is 0.843267205056\n",
      "dtc_X2_scaled score with min_samples_leaf = 4 and max_depth = 11 is 0.836903089888\n",
      "\n",
      "\n",
      "dtc_X1 score with min_samples_leaf = 4 and max_depth = 12 is 0.818908005618\n",
      "dtc_X1_scaled score with min_samples_leaf = 4 and max_depth = 12 is 0.804599719101\n",
      "dtc_X2 score with min_samples_leaf = 4 and max_depth = 12 is 0.838746488764\n",
      "dtc_X2_scaled score with min_samples_leaf = 4 and max_depth = 12 is 0.83277738764\n",
      "\n",
      "\n",
      "dtc_X1 score with min_samples_leaf = 4 and max_depth = 13 is 0.817679073034\n",
      "dtc_X1_scaled score with min_samples_leaf = 4 and max_depth = 13 is 0.803195224719\n",
      "dtc_X2 score with min_samples_leaf = 4 and max_depth = 13 is 0.839141502809\n",
      "dtc_X2_scaled score with min_samples_leaf = 4 and max_depth = 13 is 0.832514044944\n",
      "\n",
      "\n",
      "dtc_X1 score with min_samples_leaf = 4 and max_depth = 14 is 0.816801264045\n",
      "dtc_X1_scaled score with min_samples_leaf = 4 and max_depth = 14 is 0.801790730337\n",
      "dtc_X2 score with min_samples_leaf = 4 and max_depth = 14 is 0.837034761236\n",
      "dtc_X2_scaled score with min_samples_leaf = 4 and max_depth = 14 is 0.830802317416\n",
      "\n",
      "\n",
      "dtc_X1 score with min_samples_leaf = 4 and max_depth = 15 is 0.812192766854\n",
      "dtc_X1_scaled score with min_samples_leaf = 4 and max_depth = 15 is 0.796611657303\n",
      "dtc_X2 score with min_samples_leaf = 4 and max_depth = 15 is 0.835718047753\n",
      "dtc_X2_scaled score with min_samples_leaf = 4 and max_depth = 15 is 0.830056179775\n",
      "\n",
      "\n",
      "dtc_X1 score with min_samples_leaf = 4 and max_depth = 16 is 0.811666081461\n",
      "dtc_X1_scaled score with min_samples_leaf = 4 and max_depth = 16 is 0.795909410112\n",
      "dtc_X2 score with min_samples_leaf = 4 and max_depth = 16 is 0.834225772472\n",
      "dtc_X2_scaled score with min_samples_leaf = 4 and max_depth = 16 is 0.828607794944\n",
      "\n",
      "\n",
      "dtc_X1 score with min_samples_leaf = 4 and max_depth = 17 is 0.807935393258\n",
      "dtc_X1_scaled score with min_samples_leaf = 4 and max_depth = 17 is 0.791739817416\n",
      "dtc_X2 score with min_samples_leaf = 4 and max_depth = 17 is 0.834489115169\n",
      "dtc_X2_scaled score with min_samples_leaf = 4 and max_depth = 17 is 0.828520014045\n",
      "\n",
      "\n",
      "dtc_X1 score with min_samples_leaf = 4 and max_depth = 18 is 0.805828651685\n",
      "dtc_X1_scaled score with min_samples_leaf = 4 and max_depth = 18 is 0.79064255618\n",
      "dtc_X2 score with min_samples_leaf = 4 and max_depth = 18 is 0.83361130618\n",
      "dtc_X2_scaled score with min_samples_leaf = 4 and max_depth = 18 is 0.827554424157\n",
      "\n",
      "\n",
      "dtc_X1 score with min_samples_leaf = 4 and max_depth = 19 is 0.805960323034\n",
      "dtc_X1_scaled score with min_samples_leaf = 4 and max_depth = 19 is 0.790554775281\n",
      "dtc_X2 score with min_samples_leaf = 4 and max_depth = 19 is 0.832645716292\n",
      "dtc_X2_scaled score with min_samples_leaf = 4 and max_depth = 19 is 0.82733497191\n",
      "\n",
      "\n",
      "dtc_X1 score with min_samples_leaf = 5 and max_depth = None is 0.800517907303\n",
      "dtc_X1_scaled score with min_samples_leaf = 5 and max_depth = None is 0.786209620787\n",
      "dtc_X2 score with min_samples_leaf = 5 and max_depth = None is 0.827203300562\n",
      "dtc_X2_scaled score with min_samples_leaf = 5 and max_depth = None is 0.821541432584\n",
      "\n",
      "\n",
      "dtc_X1 score with min_samples_leaf = 5 and max_depth = 11 is 0.823033707865\n",
      "dtc_X1_scaled score with min_samples_leaf = 5 and max_depth = 11 is 0.808330407303\n",
      "dtc_X2 score with min_samples_leaf = 5 and max_depth = 11 is 0.843618328652\n",
      "dtc_X2_scaled score with min_samples_leaf = 5 and max_depth = 11 is 0.836069171348\n",
      "\n",
      "\n",
      "dtc_X1 score with min_samples_leaf = 5 and max_depth = 12 is 0.819917485955\n",
      "dtc_X1_scaled score with min_samples_leaf = 5 and max_depth = 12 is 0.804950842697\n",
      "dtc_X2 score with min_samples_leaf = 5 and max_depth = 12 is 0.838702598315\n",
      "dtc_X2_scaled score with min_samples_leaf = 5 and max_depth = 12 is 0.831724016854\n",
      "\n",
      "\n",
      "dtc_X1 score with min_samples_leaf = 5 and max_depth = 13 is 0.820049157303\n",
      "dtc_X1_scaled score with min_samples_leaf = 5 and max_depth = 13 is 0.804731390449\n",
      "dtc_X2 score with min_samples_leaf = 5 and max_depth = 13 is 0.838000351124\n",
      "dtc_X2_scaled score with min_samples_leaf = 5 and max_depth = 13 is 0.830407303371\n",
      "\n",
      "\n",
      "dtc_X1 score with min_samples_leaf = 5 and max_depth = 14 is 0.817108497191\n",
      "dtc_X1_scaled score with min_samples_leaf = 5 and max_depth = 14 is 0.802141853933\n",
      "dtc_X2 score with min_samples_leaf = 5 and max_depth = 14 is 0.837429775281\n",
      "dtc_X2_scaled score with min_samples_leaf = 5 and max_depth = 14 is 0.830056179775\n",
      "\n",
      "\n",
      "dtc_X1 score with min_samples_leaf = 5 and max_depth = 15 is 0.812456109551\n",
      "dtc_X1_scaled score with min_samples_leaf = 5 and max_depth = 15 is 0.796962780899\n",
      "dtc_X2 score with min_samples_leaf = 5 and max_depth = 15 is 0.835849719101\n",
      "dtc_X2_scaled score with min_samples_leaf = 5 and max_depth = 15 is 0.828125\n",
      "\n",
      "\n",
      "dtc_X1 score with min_samples_leaf = 5 and max_depth = 16 is 0.81096383427\n",
      "dtc_X1_scaled score with min_samples_leaf = 5 and max_depth = 16 is 0.796743328652\n",
      "dtc_X2 score with min_samples_leaf = 5 and max_depth = 16 is 0.835849719101\n",
      "dtc_X2_scaled score with min_samples_leaf = 5 and max_depth = 16 is 0.828827247191\n",
      "\n",
      "\n",
      "dtc_X1 score with min_samples_leaf = 5 and max_depth = 17 is 0.810481039326\n",
      "dtc_X1_scaled score with min_samples_leaf = 5 and max_depth = 17 is 0.795163272472\n",
      "dtc_X2 score with min_samples_leaf = 5 and max_depth = 17 is 0.83514747191\n",
      "dtc_X2_scaled score with min_samples_leaf = 5 and max_depth = 17 is 0.826939957865\n",
      "\n",
      "\n",
      "dtc_X1 score with min_samples_leaf = 5 and max_depth = 18 is 0.808330407303\n",
      "dtc_X1_scaled score with min_samples_leaf = 5 and max_depth = 18 is 0.793407654494\n",
      "dtc_X2 score with min_samples_leaf = 5 and max_depth = 18 is 0.833128511236\n",
      "dtc_X2_scaled score with min_samples_leaf = 5 and max_depth = 18 is 0.826281601124\n",
      "\n",
      "\n",
      "dtc_X1 score with min_samples_leaf = 5 and max_depth = 19 is 0.806091994382\n",
      "dtc_X1_scaled score with min_samples_leaf = 5 and max_depth = 19 is 0.790335323034\n",
      "dtc_X2 score with min_samples_leaf = 5 and max_depth = 19 is 0.832426264045\n",
      "dtc_X2_scaled score with min_samples_leaf = 5 and max_depth = 19 is 0.825842696629\n",
      "\n",
      "\n"
     ]
    }
   ],
   "source": [
    "# Decision Tree Classifier\n",
    "# here will be different of classifiers depending on max_depth and min_samples_leaf\n",
    "# max_depth would be: None, 10 – 20\n",
    "# min_samples_leaf would be: 1 – 5\n",
    "\n",
    "MAX_DEPTH = (None, 11, 12, 13, 14, 15, 16, 17, 18, 19)\n",
    "MIN_SAMPLES = (1, 2, 3, 4, 5)\n",
    "\n",
    "max_depth_arr = np.arange(10, 21)\n",
    "\n",
    "dtc_X1 = [[0 for x in range(10)] for x in range(5)] \n",
    "dtc_X1_scaled = [[0 for x in range(10)] for x in range(5)]\n",
    "\n",
    "dtc_X2 = [[0 for x in range(10)] for x in range(5)]\n",
    "dtc_X2_scaled = [[0 for x in range(10)] for x in range(5)]\n",
    "\n",
    "for sampl in MIN_SAMPLES:\n",
    "    for depth in MAX_DEPTH:\n",
    "        idx1 = sampl - 1\n",
    "        idx2 = depth - 10 if depth else 0\n",
    "        dtc_X1[idx1][idx2] = tree.DecisionTreeClassifier(max_depth=depth, min_samples_leaf=sampl)\n",
    "        dtc_X1_scaled[idx1][idx2] = tree.DecisionTreeClassifier(max_depth=depth, min_samples_leaf=sampl)\n",
    "        \n",
    "        dtc_X2[idx1][idx2] = tree.DecisionTreeClassifier(max_depth=depth, min_samples_leaf=sampl)\n",
    "        dtc_X2_scaled[idx1][idx2] = tree.DecisionTreeClassifier(max_depth=depth, min_samples_leaf=sampl)\n",
    "\n",
    "for sampl in MIN_SAMPLES:\n",
    "    for depth in MAX_DEPTH:\n",
    "        idx1 = sampl - 1\n",
    "        idx2 = depth - 10 if depth else 0\n",
    "        \n",
    "        dtc_X1[idx1][idx2].fit(X1_train, Y_train)\n",
    "        dtc_X1_scaled[idx1][idx2].fit(transformed_X1_train, Y_train)\n",
    "        \n",
    "        dtc_X2[idx1][idx2].fit(X2_train, Y_train)\n",
    "        dtc_X2_scaled[idx1][idx2].fit(transformed_X2_train, Y_train)\n",
    "        \n",
    "for sampl in MIN_SAMPLES:\n",
    "    for depth in MAX_DEPTH:\n",
    "        idx1 = sampl - 1\n",
    "        idx2 = depth - 10 if depth else 0\n",
    "        print 'dtc_X1 score with min_samples_leaf = {0} and max_depth = {1} is {2}'.format(sampl, depth, dtc_X1[idx1][idx2].score(X1_test, Y_test))\n",
    "        print 'dtc_X1_scaled score with min_samples_leaf = {0} and max_depth = {1} is {2}'.format(sampl, depth, dtc_X1_scaled[idx1][idx2].score(transformed_X1_test, Y_test))\n",
    "        \n",
    "        print 'dtc_X2 score with min_samples_leaf = {0} and max_depth = {1} is {2}'.format(sampl, depth, dtc_X2[idx1][idx2].score(X2_test, Y_test))\n",
    "        print 'dtc_X2_scaled score with min_samples_leaf = {0} and max_depth = {1} is {2}'.format(sampl, depth, dtc_X2_scaled[idx1][idx2].score(transformed_X2_test, Y_test))\n",
    "        \n",
    "        \n",
    "        print '\\n'"
   ]
  },
  {
   "cell_type": "markdown",
   "metadata": {},
   "source": [
    "From all those numbers we can see that DTC scaled test gives the worst results at all depth and min_leaf during DTC-classifying\n",
    "From selected tested scope the best values are min_samples_leaf = 2 and max_depth = 11\n",
    "Standartization makes DTC classifying worse"
   ]
  },
  {
   "cell_type": "code",
   "execution_count": null,
   "metadata": {
    "collapsed": true
   },
   "outputs": [],
   "source": []
  }
 ],
 "metadata": {
  "kernelspec": {
   "display_name": "Python 2",
   "language": "python",
   "name": "python2"
  },
  "language_info": {
   "codemirror_mode": {
    "name": "ipython",
    "version": 2
   },
   "file_extension": ".py",
   "mimetype": "text/x-python",
   "name": "python",
   "nbconvert_exporter": "python",
   "pygments_lexer": "ipython2",
   "version": "2.7.11"
  }
 },
 "nbformat": 4,
 "nbformat_minor": 0
}
